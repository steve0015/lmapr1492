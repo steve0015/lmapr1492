{
 "cells": [
  {
   "cell_type": "code",
   "execution_count": 89,
   "id": "86b791a6",
   "metadata": {},
   "outputs": [],
   "source": [
    "#MATOUT Steve\n",
    "\n",
    "#Les imports \n",
    "from pymatgen.ext.matproj import MPRester\n",
    "from pymatgen import Structure\n",
    "from pymatgen.symmetry.analyzer import SpacegroupAnalyzer\n"
   ]
  },
  {
   "cell_type": "code",
   "execution_count": 90,
   "id": "038796f9",
   "metadata": {},
   "outputs": [],
   "source": [
    "#Téléchargement du fichier CIF\n",
    "\n",
    "with MPRester(\"8M635zkNlb27ZqrS\") as m:\n",
    "    structure = m.get_structure_by_material_id(\"mp-581024\")"
   ]
  },
  {
   "cell_type": "code",
   "execution_count": 91,
   "id": "a79773c6",
   "metadata": {},
   "outputs": [
    {
     "name": "stdout",
     "output_type": "stream",
     "text": [
      "Les trois vecteurs du réseau direct sont :\n",
      "\n",
      "vecteur a :  [0.      4.37936 4.37936]\n",
      "vecteur b :  [4.37936 0.      4.37936]\n",
      "vecteur c :  [4.37936 4.37936 0.     ]\n"
     ]
    }
   ],
   "source": [
    "#Pour le réseau direct\n",
    "\n",
    "lattice = structure.lattice\n",
    "matrix = lattice.matrix\n",
    "\n",
    "a = matrix[0]  #les trois vecteurs du réseau direct\n",
    "b = matrix[1]\n",
    "c = matrix[2]\n",
    "print(\"Les trois vecteurs du réseau direct sont :\\n\")\n",
    "print(\"vecteur a : \", a)\n",
    "print(\"vecteur b : \", b)\n",
    "print(\"vecteur c : \", c)\n"
   ]
  },
  {
   "cell_type": "code",
   "execution_count": 92,
   "id": "017ebcb1",
   "metadata": {},
   "outputs": [
    {
     "name": "stdout",
     "output_type": "stream",
     "text": [
      "Les trois vecteurs du réseau réciproque sont :\n",
      "\n",
      "vecteur a* :  [-0.71736342  0.71736342  0.71736342]\n",
      "vecteur b* :  [ 0.71736342 -0.71736342  0.71736342]\n",
      "vecteur c* :  [ 0.71736342  0.71736342 -0.71736342]\n",
      "\n",
      "\n",
      "a.a* =  6.283185307179586\n",
      "a.b* =  0.0\n"
     ]
    }
   ],
   "source": [
    "#Pour le réseau réciproque\n",
    "\n",
    "reciprocal_lattice = lattice.reciprocal_lattice\n",
    "matrix_rec = reciprocal_lattice.matrix #matrice du réseau réciproque\n",
    "\n",
    "a_r = matrix_rec[0] #les trois vecteurs du réseau réciproque\n",
    "b_r = matrix_rec[1]\n",
    "c_r = matrix_rec[2]\n",
    "\n",
    "print(\"Les trois vecteurs du réseau réciproque sont :\\n\")\n",
    "print(\"vecteur a* : \", a_r)\n",
    "print(\"vecteur b* : \", b_r)\n",
    "print(\"vecteur c* : \", c_r)\n",
    "\n",
    "\n",
    "#On vérifie que a*a_r = 2pi, et a*b_r = 0 par exemple\n",
    "\n",
    "l = 0\n",
    "m = 0\n",
    "for i in range(3) : \n",
    "    l += a[i]*a_r[i]\n",
    "    m += a[i]*b_r[i]\n",
    "print(\"\\n\")\n",
    "print(\"a.a* = \", l)\n",
    "print(\"a.b* = \", m)"
   ]
  },
  {
   "cell_type": "code",
   "execution_count": 93,
   "id": "131a34a9",
   "metadata": {},
   "outputs": [
    {
     "name": "stdout",
     "output_type": "stream",
     "text": [
      "Type de maille :  cubic\n",
      "Système critsallin : cubic\n",
      "Groupe ponctuel :  m-3m\n"
     ]
    }
   ],
   "source": [
    "#anlyse de la structure\n",
    "\n",
    "analyse_structure = SpacegroupAnalyzer(structure)\n",
    "\n",
    "#type de maille\n",
    "\n",
    "type_maille = analyse_structure.get_lattice_type()\n",
    "print(\"Type de maille : \", type_maille)\n",
    "\n",
    "#système cristallin \n",
    "\n",
    "syst_crist = analyse_structure.get_crystal_system()\n",
    "print(\"Système critsallin :\", syst_crist)\n",
    "\n",
    "# Groupe ponctuel\n",
    "\n",
    "grp_ponct = analyse_structure.get_point_group_symbol()\n",
    "print(\"Groupe ponctuel : \",grp_ponct)"
   ]
  }
 ],
 "metadata": {
  "kernelspec": {
   "display_name": "Python 3",
   "language": "python",
   "name": "python3"
  },
  "language_info": {
   "codemirror_mode": {
    "name": "ipython",
    "version": 3
   },
   "file_extension": ".py",
   "mimetype": "text/x-python",
   "name": "python",
   "nbconvert_exporter": "python",
   "pygments_lexer": "ipython3",
   "version": "3.6.8"
  }
 },
 "nbformat": 4,
 "nbformat_minor": 5
}
