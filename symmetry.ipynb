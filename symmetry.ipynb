{
 "cells": [
  {
   "cell_type": "code",
   "execution_count": 1,
   "id": "017be537",
   "metadata": {},
   "outputs": [],
   "source": [
    "#Imports utiles\n",
    "\n",
    "from jupyter_jsmol import JsmolView\n",
    "from ipywidgets import Layout, widgets, interact\n",
    "from pymatgen.ext.matproj import MPRester\n",
    "from pymatgen.core.operations import SymmOp\n",
    "from pymatgen import Structure\n",
    "from jupyter_jsmol.pymatgen import quick_view\n",
    "from pymatgen.symmetry.analyzer import SpacegroupAnalyzer, SpacegroupOperations,generate_full_symmops"
   ]
  },
  {
   "cell_type": "code",
   "execution_count": 2,
   "id": "0405a11b",
   "metadata": {},
   "outputs": [],
   "source": [
    "with MPRester(\"8M635zkNlb27ZqrS\") as m:\n",
    "    structure = m.get_structure_by_material_id(\"mp-581024\")\n",
    "    \n",
    "#On récupère différentes informations utiles\n",
    "\n",
    "analyse_structure = SpacegroupAnalyzer(structure)\n",
    "structure_conv = analyse_structure.get_conventional_standard_structure()\n",
    "sym = analyse_structure.get_symmetry_operations()\n",
    "#print(sym)\n",
    "structure_dico = structure.as_dict()"
   ]
  },
  {
   "cell_type": "code",
   "execution_count": 15,
   "id": "f1043781",
   "metadata": {
    "scrolled": false
   },
   "outputs": [
    {
     "name": "stdout",
     "output_type": "stream",
     "text": [
      "Premier atome : Potassium \n",
      "\n",
      "\n",
      "Coordonnées de l'atome avant opération :  [0.25, 0.25, 0.25]\n",
      "Coordonnées de l'atome après opération de symétrie : [-0.25 -0.25 -0.25]\n",
      "\n",
      "Matrice de rotation de l'opération de symétrie : \n",
      "[[-1.  0.  0.]\n",
      " [ 0. -1.  0.]\n",
      " [ 0.  0. -1.]]\n",
      "Vecteur de translation de l'opération de symétrie :\n",
      "[0. 0. 0.]\n",
      "\n",
      " Opération de symétrie (avec (x,y,z) la position initiale de l'atome) :\n",
      "\n",
      " Inversion : (x,y,z) --> (-x,-y,-z)\n"
     ]
    },
    {
     "data": {
      "application/vnd.jupyter.widget-view+json": {
       "model_id": "ed0e6c43cc464590a94dd461033b44bd",
       "version_major": 2,
       "version_minor": 0
      },
      "text/plain": [
       "JsmolView(layout=Layout(align_self='stretch', height='400px'))"
      ]
     },
     "metadata": {},
     "output_type": "display_data"
    }
   ],
   "source": [
    "#Premier élément de symétrie\n",
    "\n",
    "print(\"Premier atome : Potassium \\n\\n\")\n",
    "\n",
    "\n",
    "#On récupère l'élément de symétrie (atome de Potassium)\n",
    "symétrie_1 = SymmOp.from_xyz_string(\"-x, -y, -z\")\n",
    "\n",
    "#Atome avant opération\n",
    "atome_1 = structure_dico['sites'][1]['label']\n",
    "coord_atome_1 = structure_dico['sites'][1]['abc'] # coordonnées de l'atome avant opération\n",
    "print(\"Coordonnées de l'atome avant opération : \",structure_dico['sites'][1]['abc'])\n",
    "\n",
    "#Atome après opération\n",
    "coord_atome_1s = symétrie_1.operate(coord_atome_1) # coordonnées de l'atome après opération\n",
    "print(\"Coordonnées de l'atome après opération de symétrie :\", coord_atome_1s)\n",
    "\n",
    "#Matrice de rotation de l'opération\n",
    "print(\"\\nMatrice de rotation de l'opération de symétrie : \")\n",
    "print(symétrie_1.rotation_matrix)\n",
    "\n",
    "#Vecteur de traslation de l'opération\n",
    "print(\"Vecteur de translation de l'opération de symétrie :\")\n",
    "print(symétrie_1.translation_vector)\n",
    "\n",
    "#Description de l'opération de symétrie\n",
    "print(\"\\n Opération de symétrie (avec (x,y,z) la position initiale de l'atome) :\")\n",
    "print(\"\\n Inversion : (x,y,z) --> (-x,-y,-z)\")\n",
    "\n",
    "# Vue en 3D de l'opération de symétrie\n",
    "view1 = quick_view(structure_conv, supercell=[1,1,1])\n",
    "display(view1)\n",
    "view1.script('set autobond false; connect 3.8 (_Sb) (_K); connect 3.8 (_Cs) (_K);')#On peut retirer cette lige pour mieux visualiser l'opération de symétrie\n",
    "view1.script('draw symop \"-x, -y, -z\" {atomno = 2}')\n",
    "view1.script('select cesium; color white') \n",
    "view1.script('select potassium; color red')\n",
    "view1.script('select antimony; color orange')\n",
    "\n",
    "#view1.script(\"select all; label on\")\n",
    "#label on;"
   ]
  },
  {
   "cell_type": "code",
   "execution_count": 16,
   "id": "3dead8b9",
   "metadata": {
    "scrolled": true
   },
   "outputs": [
    {
     "name": "stdout",
     "output_type": "stream",
     "text": [
      "Deuxième atome : Césium \n",
      "\n",
      "\n",
      "Coordonnées de l'atome avant opération :  [0.5, 0.5, 0.5]\n",
      "Coordonnées de l'atome après opération de symétrie : [-0.5  0.5  0.5]\n",
      "\n",
      "Matrice de rotation de l'opération de symétrie : \n",
      "[[ 0. -1.  0.]\n",
      " [ 1.  0.  0.]\n",
      " [ 0.  0.  1.]]\n",
      "Vecteur de translation de l'opération de symétrie :\n",
      "[0. 0. 0.]\n",
      "\n",
      " Opération de symétrie (avec (x,y,z) la position initiale de l'atome) :\n",
      "\n",
      " Rotation autour de l'axe c (associé à z) (de pi/2) : (x,y,z) --> (-y,x,z)\n"
     ]
    },
    {
     "data": {
      "application/vnd.jupyter.widget-view+json": {
       "model_id": "a70d12a347f643ebb4966d0eef4f8752",
       "version_major": 2,
       "version_minor": 0
      },
      "text/plain": [
       "JsmolView(layout=Layout(align_self='stretch', height='400px'))"
      ]
     },
     "metadata": {},
     "output_type": "display_data"
    }
   ],
   "source": [
    "#Deuxième élément de symétrie\n",
    "\n",
    "\n",
    "print(\"Deuxième atome : Césium \\n\\n\")\n",
    "\n",
    "\n",
    "#On récupère l'élément de symétrie (atome de Potassium)\n",
    "symétrie_2 = SymmOp.from_xyz_string(\"-y,x,z\")\n",
    "\n",
    "atome_2 = structure_dico['sites'][0]['label']\n",
    "coord_atome_2 = structure_dico['sites'][0]['abc'] # coordonnées de l'atome avant opération\n",
    "print(\"Coordonnées de l'atome avant opération : \",coord_atome_2)\n",
    "\n",
    "coord_atome_2s = symétrie_2.operate(coord_atome_2) # coordonnées de l'atome après opération\n",
    "print(\"Coordonnées de l'atome après opération de symétrie :\", coord_atome_2s)\n",
    "\n",
    "print(\"\\nMatrice de rotation de l'opération de symétrie : \")\n",
    "print(symétrie_2.rotation_matrix)\n",
    "print(\"Vecteur de translation de l'opération de symétrie :\")\n",
    "print(symétrie_2.translation_vector)\n",
    "\n",
    "#Description de l'opération de symétrie\n",
    "print(\"\\n Opération de symétrie (avec (x,y,z) la position initiale de l'atome) :\")\n",
    "print(\"\\n Rotation autour de l'axe c (associé à z) (de pi/2) : (x,y,z) --> (-y,x,z)\")\n",
    "\n",
    "# Vue en 3D de l'opération de symétrie\n",
    "view2 = quick_view(structure_conv, supercell=[1,1,1])\n",
    "display(view2)\n",
    "view2.script('set autobond false; connect 3.8 (_Sb) (_K); connect 3.8 (_Cs) (_K);')#On peut retirer cette lige pour mieux visualiser l'opération de symétrie\n",
    "view2.script('draw symop \"-y,x,z\" {atomno = 29}')\n",
    "view2.script('select cesium; color white')\n",
    "view2.script('select potassium; color red')\n",
    "view2.script('select antimony; color orange')\n",
    "#view2.script(\"select all; label on\")"
   ]
  },
  {
   "cell_type": "code",
   "execution_count": 17,
   "id": "9254473d",
   "metadata": {},
   "outputs": [
    {
     "name": "stdout",
     "output_type": "stream",
     "text": [
      "Troisième atome : Antimoine (Sb) \n",
      "\n",
      "\n",
      "Coordonnées de l'atome avant opération :  [-1.0, 0.5, 0.5]\n",
      "Coordonnées de l'atome après opération de symétrie : [-1.   0.5 -0.5]\n",
      "\n",
      "Matrice de rotation de l'opération de symétrie : \n",
      "[[ 1.  0.  0.]\n",
      " [ 0.  1.  0.]\n",
      " [ 0.  0. -1.]]\n",
      "Vecteur de translation de l'opération de symétrie :\n",
      "[0. 0. 0.]\n",
      "\n",
      " Opération de symétrie (avec (x,y,z) la position initiale de l'atome) :\n",
      "\n",
      " Réflexion (avec comme plan de réflexion le plan z = 0) : (x,y,z) --> (x,y,-z)\n"
     ]
    },
    {
     "data": {
      "application/vnd.jupyter.widget-view+json": {
       "model_id": "d08bd59fdef14d708b8f1408b57d079d",
       "version_major": 2,
       "version_minor": 0
      },
      "text/plain": [
       "JsmolView(layout=Layout(align_self='stretch', height='400px'))"
      ]
     },
     "metadata": {},
     "output_type": "display_data"
    }
   ],
   "source": [
    "#Troisième élément de symétrie\n",
    "\n",
    "print(\"Troisième atome : Antimoine (Sb) \\n\\n\")\n",
    "\n",
    "#On récupère l'élément de symétrie (atome d'Antimoine)\n",
    "symétrie_3 = SymmOp.from_xyz_string(\"x,y,-z\")\n",
    "\n",
    "atome_3 = structure_dico['sites'][3]['label']\n",
    "#coord_atomes_3 = structure_dico['sites'][3]['abc'] # coordonnées de l'atome avant opération, (0,0,0) ici\n",
    "coord_atome_3 = [-1.0,0.5,0.5] # Je prends cet atome car l'atome en (0,0,0) ne subit aucun changement via l'opération de symétrie\n",
    "\n",
    "print(\"Coordonnées de l'atome avant opération : \",coord_atome_3)\n",
    "coord_atome_3s = symétrie_3.operate(coord_atome_3) # coordonnées de l'atome après opération\n",
    "print(\"Coordonnées de l'atome après opération de symétrie :\", coord_atome_3s)\n",
    "\n",
    "print(\"\\nMatrice de rotation de l'opération de symétrie : \")\n",
    "print(symétrie_3.rotation_matrix)\n",
    "print(\"Vecteur de translation de l'opération de symétrie :\")\n",
    "print(symétrie_3.translation_vector)\n",
    "\n",
    "#Description de l'opération de symétrie\n",
    "print(\"\\n Opération de symétrie (avec (x,y,z) la position initiale de l'atome) :\")\n",
    "print(\"\\n Réflexion (avec comme plan de réflexion le plan z = 0) : (x,y,z) --> (x,y,-z)\")\n",
    "\n",
    "# Vue en 3D de l'opération de symétrie\n",
    "view3 = quick_view(structure_conv, supercell=[1,1,1])\n",
    "display(view3)\n",
    "view3.script('set autobond false; connect 3.8 (_Sb) (_K); connect 3.8 (_Cs) (_K);')#On peut retirer cette lige pour mieux visualiser l'opération de symétrie\n",
    "view3.script('draw symop \"x,y,-z\" {atomno = 34}')\n",
    "view3.script('select cesium;  color white')\n",
    "view3.script('select potassium; color red')\n",
    "view3.script('select antimony;  color orange')\n",
    "#view.script(\"select all; label on\")\n"
   ]
  },
  {
   "cell_type": "code",
   "execution_count": null,
   "id": "fe5a3e08",
   "metadata": {},
   "outputs": [],
   "source": []
  }
 ],
 "metadata": {
  "kernelspec": {
   "display_name": "Python 3",
   "language": "python",
   "name": "python3"
  },
  "language_info": {
   "codemirror_mode": {
    "name": "ipython",
    "version": 3
   },
   "file_extension": ".py",
   "mimetype": "text/x-python",
   "name": "python",
   "nbconvert_exporter": "python",
   "pygments_lexer": "ipython3",
   "version": "3.6.8"
  }
 },
 "nbformat": 4,
 "nbformat_minor": 5
}
