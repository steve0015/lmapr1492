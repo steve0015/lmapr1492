{
 "cells": [
  {
   "cell_type": "code",
   "execution_count": 1,
   "id": "b022f232",
   "metadata": {},
   "outputs": [],
   "source": [
    "from pymatgen.symmetry.analyzer import SpacegroupAnalyzer\n",
    "from pymatgen.ext.matproj import MPRester\n",
    "with MPRester(\"8M635zkNlb27ZqrS\") as m:\n",
    "# Télécharger le CIF du matériau qui sera stocké dans structure\n",
    "    structure = m.get_structure_by_material_id(\"mp-581024\")"
   ]
  },
  {
   "cell_type": "code",
   "execution_count": null,
   "id": "0c8ca9da",
   "metadata": {},
   "outputs": [],
   "source": [
    "#Récupérer la symmetrized structure comme demandé\n",
    "symmetryzedstruc = SpacegroupAnalyzer(structure).get_symmetrized_structure() "
   ]
  }
 ],
 "metadata": {
  "kernelspec": {
   "display_name": "Python 3",
   "language": "python",
   "name": "python3"
  },
  "language_info": {
   "codemirror_mode": {
    "name": "ipython",
    "version": 3
   },
   "file_extension": ".py",
   "mimetype": "text/x-python",
   "name": "python",
   "nbconvert_exporter": "python",
   "pygments_lexer": "ipython3",
   "version": "3.6.8"
  }
 },
 "nbformat": 4,
 "nbformat_minor": 5
}
